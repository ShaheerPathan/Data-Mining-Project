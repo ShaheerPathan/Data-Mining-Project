{
 "cells": [
  {
   "cell_type": "code",
   "execution_count": 1,
   "id": "dfad88d4",
   "metadata": {},
   "outputs": [
    {
     "name": "stdout",
     "output_type": "stream",
     "text": [
      "Decision Tree: Accuracy=0.8035714285714286, Precision=0.8518518518518519, Recall=0.7666666666666667\n",
      "KNN: Accuracy=0.6964285714285714, Precision=0.7241379310344828, Recall=0.7\n"
     ]
    }
   ],
   "source": [
    "import pandas as pd\n",
    "from sklearn.tree import DecisionTreeClassifier\n",
    "from sklearn.neighbors import KNeighborsClassifier\n",
    "from sklearn.model_selection import train_test_split\n",
    "from sklearn.metrics import accuracy_score, precision_score, recall_score\n",
    "\n",
    "# Load the data into a pandas DataFrame\n",
    "data = pd.read_csv(\"Model Train Data Bef Mid 2.csv\")\n",
    "\n",
    "# Preprocess the data\n",
    "# ... (handle missing values, encode categorical variables, etc.)\n",
    "\n",
    "# Split the data into features (X) and target variable (y)\n",
    "X = data.drop(\"Grade\", axis=1)\n",
    "y = data[\"Grade\"]\n",
    "\n",
    "# Split the data into training and testing sets\n",
    "X_train, X_test, y_train, y_test = train_test_split(X, y, test_size=0.2, random_state=42)\n",
    "\n",
    "# Decision Tree\n",
    "dt_clf = DecisionTreeClassifier()\n",
    "dt_clf.fit(X_train, y_train)\n",
    "dt_preds = dt_clf.predict(X_test)\n",
    "dt_accuracy = accuracy_score(y_test, dt_preds)\n",
    "dt_precision = precision_score(y_test, dt_preds, pos_label=\"Pass\")\n",
    "dt_recall = recall_score(y_test, dt_preds, pos_label=\"Pass\")\n",
    "print(f\"Decision Tree: Accuracy={dt_accuracy}, Precision={dt_precision}, Recall={dt_recall}\")\n",
    "\n",
    "# KNN\n",
    "knn_clf = KNeighborsClassifier(n_neighbors=5)\n",
    "knn_clf.fit(X_train, y_train)\n",
    "knn_preds = knn_clf.predict(X_test)\n",
    "knn_accuracy = accuracy_score(y_test, knn_preds)\n",
    "knn_precision = precision_score(y_test, knn_preds, pos_label=\"Pass\")\n",
    "knn_recall = recall_score(y_test, knn_preds, pos_label=\"Pass\")\n",
    "print(f\"KNN: Accuracy={knn_accuracy}, Precision={knn_precision}, Recall={knn_recall}\")"
   ]
  },
  {
   "cell_type": "code",
   "execution_count": 2,
   "id": "2feb502f",
   "metadata": {},
   "outputs": [
    {
     "name": "stdout",
     "output_type": "stream",
     "text": [
      "Decision Tree: Accuracy=0.8392857142857143, Precision=0.7837837837837838, Recall=0.9666666666666667\n",
      "KNN: Accuracy=0.875, Precision=0.8709677419354839, Recall=0.9\n"
     ]
    }
   ],
   "source": [
    "import pandas as pd\n",
    "from sklearn.tree import DecisionTreeClassifier\n",
    "from sklearn.neighbors import KNeighborsClassifier\n",
    "from sklearn.model_selection import train_test_split\n",
    "from sklearn.metrics import accuracy_score, precision_score, recall_score\n",
    "\n",
    "# Load the data into a pandas DataFrame\n",
    "data = pd.read_csv(\"Model Train Data Bef Final.csv\")\n",
    "\n",
    "# Preprocess the data\n",
    "# ... (handle missing values, encode categorical variables, etc.)\n",
    "\n",
    "# Split the data into features (X) and target variable (y)\n",
    "X = data.drop(\"Grade\", axis=1)\n",
    "y = data[\"Grade\"]\n",
    "\n",
    "# Split the data into training and testing sets\n",
    "X_train, X_test, y_train, y_test = train_test_split(X, y, test_size=0.2, random_state=42)\n",
    "\n",
    "# Decision Tree\n",
    "dt_clf = DecisionTreeClassifier()\n",
    "dt_clf.fit(X_train, y_train)\n",
    "dt_preds = dt_clf.predict(X_test)\n",
    "dt_accuracy = accuracy_score(y_test, dt_preds)\n",
    "dt_precision = precision_score(y_test, dt_preds, pos_label=\"Pass\")\n",
    "dt_recall = recall_score(y_test, dt_preds, pos_label=\"Pass\")\n",
    "print(f\"Decision Tree: Accuracy={dt_accuracy}, Precision={dt_precision}, Recall={dt_recall}\")\n",
    "\n",
    "# KNN\n",
    "knn_clf = KNeighborsClassifier(n_neighbors=5)\n",
    "knn_clf.fit(X_train, y_train)\n",
    "knn_preds = knn_clf.predict(X_test)\n",
    "knn_accuracy = accuracy_score(y_test, knn_preds)\n",
    "knn_precision = precision_score(y_test, knn_preds, pos_label=\"Pass\")\n",
    "knn_recall = recall_score(y_test, knn_preds, pos_label=\"Pass\")\n",
    "print(f\"KNN: Accuracy={knn_accuracy}, Precision={knn_precision}, Recall={knn_recall}\")"
   ]
  },
  {
   "cell_type": "code",
   "execution_count": null,
   "id": "8202efe8",
   "metadata": {},
   "outputs": [],
   "source": []
  }
 ],
 "metadata": {
  "kernelspec": {
   "display_name": "Python 3 (ipykernel)",
   "language": "python",
   "name": "python3"
  },
  "language_info": {
   "codemirror_mode": {
    "name": "ipython",
    "version": 3
   },
   "file_extension": ".py",
   "mimetype": "text/x-python",
   "name": "python",
   "nbconvert_exporter": "python",
   "pygments_lexer": "ipython3",
   "version": "3.11.4"
  }
 },
 "nbformat": 4,
 "nbformat_minor": 5
}
