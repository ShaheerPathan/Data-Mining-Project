{
 "cells": [
  {
   "cell_type": "code",
   "execution_count": 9,
   "id": "f8b350c2",
   "metadata": {},
   "outputs": [],
   "source": [
    "import pandas as pd\n",
    "from sklearn.neighbors import KNeighborsClassifier\n",
    "from sklearn.model_selection import train_test_split\n",
    "from sklearn.metrics import accuracy_score, classification_report"
   ]
  },
  {
   "cell_type": "code",
   "execution_count": 10,
   "id": "12239310",
   "metadata": {},
   "outputs": [],
   "source": [
    "# Load the data from the CSV file\n",
    "data = pd.read_csv(r'C:\\Users\\FAST\\Downloads\\DM project\\DM Project\\Training Data\\Model Train Data Bef Mid 2.csv')"
   ]
  },
  {
   "cell_type": "code",
   "execution_count": 11,
   "id": "47159fe9",
   "metadata": {},
   "outputs": [
    {
     "name": "stdout",
     "output_type": "stream",
     "text": [
      "Columns in the DataFrame:\n",
      "Index(['As:1', 'As:2', 'As:3', 'As:4', 'Qz:1', 'Qz:2', 'Qz:3', 'Qz:4', 'S-I',\n",
      "       'Grade'],\n",
      "      dtype='object')\n"
     ]
    }
   ],
   "source": [
    "# Print out the columns of the DataFrame\n",
    "print(\"Columns in the DataFrame:\")\n",
    "print(data.columns)"
   ]
  },
  {
   "cell_type": "code",
   "execution_count": 12,
   "id": "9f0180f5",
   "metadata": {},
   "outputs": [],
   "source": [
    "# Select the relevant features for predicting before Mid-II\n",
    "X = data[['As:1', 'As:2', 'As:3', 'As:4', 'Qz:1', 'Qz:2', 'Qz:3', 'Qz:4', 'S-I']]\n",
    "y = data['Grade'].apply(lambda x: 1 if x == 'Pass' else 0)"
   ]
  },
  {
   "cell_type": "code",
   "execution_count": 13,
   "id": "087f1426",
   "metadata": {},
   "outputs": [],
   "source": [
    "# Split the data into train and test sets\n",
    "X_train, X_test, y_train, y_test = train_test_split(X, y, test_size=0.2, random_state=42)"
   ]
  },
  {
   "cell_type": "code",
   "execution_count": 14,
   "id": "7274428c",
   "metadata": {},
   "outputs": [
    {
     "name": "stdout",
     "output_type": "stream",
     "text": [
      "Nearest Neighbor Classifier:\n",
      "Accuracy: 0.6964285714285714\n",
      "              precision    recall  f1-score   support\n",
      "\n",
      "           0       0.67      0.69      0.68        26\n",
      "           1       0.72      0.70      0.71        30\n",
      "\n",
      "    accuracy                           0.70        56\n",
      "   macro avg       0.70      0.70      0.70        56\n",
      "weighted avg       0.70      0.70      0.70        56\n",
      "\n"
     ]
    }
   ],
   "source": [
    "# Nearest Neighbor Classifier\n",
    "knn = KNeighborsClassifier()\n",
    "knn.fit(X_train, y_train)\n",
    "y_pred_knn = knn.predict(X_test)\n",
    "print(\"Nearest Neighbor Classifier:\")\n",
    "print(\"Accuracy:\", accuracy_score(y_test, y_pred_knn))\n",
    "print(classification_report(y_test, y_pred_knn))"
   ]
  },
  {
   "cell_type": "code",
   "execution_count": null,
   "id": "cd62cb54",
   "metadata": {},
   "outputs": [],
   "source": []
  }
 ],
 "metadata": {
  "kernelspec": {
   "display_name": "Python 3 (ipykernel)",
   "language": "python",
   "name": "python3"
  },
  "language_info": {
   "codemirror_mode": {
    "name": "ipython",
    "version": 3
   },
   "file_extension": ".py",
   "mimetype": "text/x-python",
   "name": "python",
   "nbconvert_exporter": "python",
   "pygments_lexer": "ipython3",
   "version": "3.11.4"
  }
 },
 "nbformat": 4,
 "nbformat_minor": 5
}
